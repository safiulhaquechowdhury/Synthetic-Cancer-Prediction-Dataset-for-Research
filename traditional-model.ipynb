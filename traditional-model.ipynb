{
 "cells": [
  {
   "cell_type": "code",
   "execution_count": 1,
   "id": "4bb57c7c",
   "metadata": {
    "_cell_guid": "b1076dfc-b9ad-4769-8c92-a6c4dae69d19",
    "_uuid": "8f2839f25d086af736a60e9eeb907d3b93b6e0e5",
    "execution": {
     "iopub.execute_input": "2023-11-09T16:52:49.195655Z",
     "iopub.status.busy": "2023-11-09T16:52:49.194445Z",
     "iopub.status.idle": "2023-11-09T16:52:49.671270Z",
     "shell.execute_reply": "2023-11-09T16:52:49.670026Z"
    },
    "papermill": {
     "duration": 0.491564,
     "end_time": "2023-11-09T16:52:49.676209",
     "exception": false,
     "start_time": "2023-11-09T16:52:49.184645",
     "status": "completed"
    },
    "tags": []
   },
   "outputs": [
    {
     "name": "stdout",
     "output_type": "stream",
     "text": [
      "/kaggle/input/synthetic-cancer-prediction-dataset-for-research/cancer_prediction_dataset.csv\n"
     ]
    }
   ],
   "source": [
    "# This Python 3 environment comes with many helpful analytics libraries installed\n",
    "# It is defined by the kaggle/python Docker image: https://github.com/kaggle/docker-python\n",
    "# For example, here's several helpful packages to load\n",
    "\n",
    "import numpy as np # linear algebra\n",
    "import pandas as pd # data processing, CSV file I/O (e.g. pd.read_csv)\n",
    "\n",
    "# Input data files are available in the read-only \"../input/\" directory\n",
    "# For example, running this (by clicking run or pressing Shift+Enter) will list all files under the input directory\n",
    "\n",
    "import os\n",
    "for dirname, _, filenames in os.walk('/kaggle/input'):\n",
    "    for filename in filenames:\n",
    "        print(os.path.join(dirname, filename))\n",
    "\n",
    "# You can write up to 20GB to the current directory (/kaggle/working/) that gets preserved as output when you create a version using \"Save & Run All\" \n",
    "# You can also write temporary files to /kaggle/temp/, but they won't be saved outside of the current session"
   ]
  },
  {
   "cell_type": "code",
   "execution_count": 2,
   "id": "a4ea0972",
   "metadata": {
    "execution": {
     "iopub.execute_input": "2023-11-09T16:52:49.695279Z",
     "iopub.status.busy": "2023-11-09T16:52:49.694061Z",
     "iopub.status.idle": "2023-11-09T16:52:49.725861Z",
     "shell.execute_reply": "2023-11-09T16:52:49.724905Z"
    },
    "papermill": {
     "duration": 0.045313,
     "end_time": "2023-11-09T16:52:49.728929",
     "exception": false,
     "start_time": "2023-11-09T16:52:49.683616",
     "status": "completed"
    },
    "tags": []
   },
   "outputs": [],
   "source": [
    "dataset = pd.read_csv('/kaggle/input/synthetic-cancer-prediction-dataset-for-research/cancer_prediction_dataset.csv')"
   ]
  },
  {
   "cell_type": "code",
   "execution_count": 3,
   "id": "aeba4a98",
   "metadata": {
    "execution": {
     "iopub.execute_input": "2023-11-09T16:52:49.746510Z",
     "iopub.status.busy": "2023-11-09T16:52:49.745755Z",
     "iopub.status.idle": "2023-11-09T16:52:49.773861Z",
     "shell.execute_reply": "2023-11-09T16:52:49.772464Z"
    },
    "papermill": {
     "duration": 0.040643,
     "end_time": "2023-11-09T16:52:49.777359",
     "exception": false,
     "start_time": "2023-11-09T16:52:49.736716",
     "status": "completed"
    },
    "tags": []
   },
   "outputs": [
    {
     "data": {
      "text/html": [
       "<div>\n",
       "<style scoped>\n",
       "    .dataframe tbody tr th:only-of-type {\n",
       "        vertical-align: middle;\n",
       "    }\n",
       "\n",
       "    .dataframe tbody tr th {\n",
       "        vertical-align: top;\n",
       "    }\n",
       "\n",
       "    .dataframe thead th {\n",
       "        text-align: right;\n",
       "    }\n",
       "</style>\n",
       "<table border=\"1\" class=\"dataframe\">\n",
       "  <thead>\n",
       "    <tr style=\"text-align: right;\">\n",
       "      <th></th>\n",
       "      <th>Gender</th>\n",
       "      <th>Age</th>\n",
       "      <th>Smoking</th>\n",
       "      <th>Fatigue</th>\n",
       "      <th>Allergy</th>\n",
       "      <th>Cancer</th>\n",
       "    </tr>\n",
       "  </thead>\n",
       "  <tbody>\n",
       "    <tr>\n",
       "      <th>0</th>\n",
       "      <td>1</td>\n",
       "      <td>85</td>\n",
       "      <td>1</td>\n",
       "      <td>0</td>\n",
       "      <td>1</td>\n",
       "      <td>0</td>\n",
       "    </tr>\n",
       "    <tr>\n",
       "      <th>1</th>\n",
       "      <td>1</td>\n",
       "      <td>93</td>\n",
       "      <td>0</td>\n",
       "      <td>0</td>\n",
       "      <td>0</td>\n",
       "      <td>0</td>\n",
       "    </tr>\n",
       "    <tr>\n",
       "      <th>2</th>\n",
       "      <td>1</td>\n",
       "      <td>72</td>\n",
       "      <td>0</td>\n",
       "      <td>1</td>\n",
       "      <td>0</td>\n",
       "      <td>0</td>\n",
       "    </tr>\n",
       "    <tr>\n",
       "      <th>3</th>\n",
       "      <td>0</td>\n",
       "      <td>58</td>\n",
       "      <td>0</td>\n",
       "      <td>0</td>\n",
       "      <td>1</td>\n",
       "      <td>0</td>\n",
       "    </tr>\n",
       "    <tr>\n",
       "      <th>4</th>\n",
       "      <td>1</td>\n",
       "      <td>95</td>\n",
       "      <td>1</td>\n",
       "      <td>0</td>\n",
       "      <td>1</td>\n",
       "      <td>1</td>\n",
       "    </tr>\n",
       "    <tr>\n",
       "      <th>...</th>\n",
       "      <td>...</td>\n",
       "      <td>...</td>\n",
       "      <td>...</td>\n",
       "      <td>...</td>\n",
       "      <td>...</td>\n",
       "      <td>...</td>\n",
       "    </tr>\n",
       "    <tr>\n",
       "      <th>9995</th>\n",
       "      <td>1</td>\n",
       "      <td>89</td>\n",
       "      <td>1</td>\n",
       "      <td>0</td>\n",
       "      <td>1</td>\n",
       "      <td>0</td>\n",
       "    </tr>\n",
       "    <tr>\n",
       "      <th>9996</th>\n",
       "      <td>0</td>\n",
       "      <td>23</td>\n",
       "      <td>1</td>\n",
       "      <td>1</td>\n",
       "      <td>0</td>\n",
       "      <td>0</td>\n",
       "    </tr>\n",
       "    <tr>\n",
       "      <th>9997</th>\n",
       "      <td>1</td>\n",
       "      <td>99</td>\n",
       "      <td>0</td>\n",
       "      <td>0</td>\n",
       "      <td>1</td>\n",
       "      <td>0</td>\n",
       "    </tr>\n",
       "    <tr>\n",
       "      <th>9998</th>\n",
       "      <td>0</td>\n",
       "      <td>26</td>\n",
       "      <td>0</td>\n",
       "      <td>1</td>\n",
       "      <td>1</td>\n",
       "      <td>0</td>\n",
       "    </tr>\n",
       "    <tr>\n",
       "      <th>9999</th>\n",
       "      <td>1</td>\n",
       "      <td>52</td>\n",
       "      <td>1</td>\n",
       "      <td>1</td>\n",
       "      <td>0</td>\n",
       "      <td>0</td>\n",
       "    </tr>\n",
       "  </tbody>\n",
       "</table>\n",
       "<p>10000 rows × 6 columns</p>\n",
       "</div>"
      ],
      "text/plain": [
       "      Gender  Age  Smoking  Fatigue  Allergy  Cancer\n",
       "0          1   85        1        0        1       0\n",
       "1          1   93        0        0        0       0\n",
       "2          1   72        0        1        0       0\n",
       "3          0   58        0        0        1       0\n",
       "4          1   95        1        0        1       1\n",
       "...      ...  ...      ...      ...      ...     ...\n",
       "9995       1   89        1        0        1       0\n",
       "9996       0   23        1        1        0       0\n",
       "9997       1   99        0        0        1       0\n",
       "9998       0   26        0        1        1       0\n",
       "9999       1   52        1        1        0       0\n",
       "\n",
       "[10000 rows x 6 columns]"
      ]
     },
     "execution_count": 3,
     "metadata": {},
     "output_type": "execute_result"
    }
   ],
   "source": [
    "dataset"
   ]
  },
  {
   "cell_type": "markdown",
   "id": "beb6b0af",
   "metadata": {
    "papermill": {
     "duration": 0.007224,
     "end_time": "2023-11-09T16:52:49.792493",
     "exception": false,
     "start_time": "2023-11-09T16:52:49.785269",
     "status": "completed"
    },
    "tags": []
   },
   "source": [
    "# Preprocessing"
   ]
  },
  {
   "cell_type": "code",
   "execution_count": 4,
   "id": "60f82a4b",
   "metadata": {
    "execution": {
     "iopub.execute_input": "2023-11-09T16:52:49.810492Z",
     "iopub.status.busy": "2023-11-09T16:52:49.809547Z",
     "iopub.status.idle": "2023-11-09T16:52:49.822403Z",
     "shell.execute_reply": "2023-11-09T16:52:49.821075Z"
    },
    "papermill": {
     "duration": 0.024926,
     "end_time": "2023-11-09T16:52:49.825245",
     "exception": false,
     "start_time": "2023-11-09T16:52:49.800319",
     "status": "completed"
    },
    "tags": []
   },
   "outputs": [
    {
     "data": {
      "text/plain": [
       "Gender     0\n",
       "Age        0\n",
       "Smoking    0\n",
       "Fatigue    0\n",
       "Allergy    0\n",
       "Cancer     0\n",
       "dtype: int64"
      ]
     },
     "execution_count": 4,
     "metadata": {},
     "output_type": "execute_result"
    }
   ],
   "source": [
    "dataset.isnull().sum()"
   ]
  },
  {
   "cell_type": "markdown",
   "id": "d105b8cc",
   "metadata": {
    "papermill": {
     "duration": 0.007557,
     "end_time": "2023-11-09T16:52:49.840669",
     "exception": false,
     "start_time": "2023-11-09T16:52:49.833112",
     "status": "completed"
    },
    "tags": []
   },
   "source": [
    "# Train Test"
   ]
  },
  {
   "cell_type": "code",
   "execution_count": 5,
   "id": "29908db6",
   "metadata": {
    "execution": {
     "iopub.execute_input": "2023-11-09T16:52:49.859529Z",
     "iopub.status.busy": "2023-11-09T16:52:49.858174Z",
     "iopub.status.idle": "2023-11-09T16:52:49.872792Z",
     "shell.execute_reply": "2023-11-09T16:52:49.871428Z"
    },
    "papermill": {
     "duration": 0.027411,
     "end_time": "2023-11-09T16:52:49.875919",
     "exception": false,
     "start_time": "2023-11-09T16:52:49.848508",
     "status": "completed"
    },
    "tags": []
   },
   "outputs": [],
   "source": [
    "X = dataset.drop('Cancer', axis=1)\n",
    "y = dataset['Cancer']"
   ]
  },
  {
   "cell_type": "code",
   "execution_count": 6,
   "id": "34d805f5",
   "metadata": {
    "execution": {
     "iopub.execute_input": "2023-11-09T16:52:49.894315Z",
     "iopub.status.busy": "2023-11-09T16:52:49.893569Z",
     "iopub.status.idle": "2023-11-09T16:52:51.430380Z",
     "shell.execute_reply": "2023-11-09T16:52:51.428628Z"
    },
    "papermill": {
     "duration": 1.549927,
     "end_time": "2023-11-09T16:52:51.433756",
     "exception": false,
     "start_time": "2023-11-09T16:52:49.883829",
     "status": "completed"
    },
    "tags": []
   },
   "outputs": [],
   "source": [
    "from sklearn.model_selection import train_test_split\n",
    "X_train, X_test, y_train, y_test = train_test_split(X, y, test_size=0.2, random_state=76)"
   ]
  },
  {
   "cell_type": "markdown",
   "id": "159b58b7",
   "metadata": {
    "papermill": {
     "duration": 0.00815,
     "end_time": "2023-11-09T16:52:51.450206",
     "exception": false,
     "start_time": "2023-11-09T16:52:51.442056",
     "status": "completed"
    },
    "tags": []
   },
   "source": [
    "# Finding Best Random State for SVM"
   ]
  },
  {
   "cell_type": "code",
   "execution_count": 7,
   "id": "a48d0209",
   "metadata": {
    "execution": {
     "iopub.execute_input": "2023-11-09T16:52:51.468602Z",
     "iopub.status.busy": "2023-11-09T16:52:51.468122Z",
     "iopub.status.idle": "2023-11-09T16:57:02.428772Z",
     "shell.execute_reply": "2023-11-09T16:57:02.427534Z"
    },
    "papermill": {
     "duration": 250.980788,
     "end_time": "2023-11-09T16:57:02.439237",
     "exception": false,
     "start_time": "2023-11-09T16:52:51.458449",
     "status": "completed"
    },
    "tags": []
   },
   "outputs": [
    {
     "name": "stdout",
     "output_type": "stream",
     "text": [
      "Best Random State: 76\n",
      "Best Accuracy: 0.92\n"
     ]
    }
   ],
   "source": [
    "from sklearn.model_selection import train_test_split\n",
    "from sklearn.svm import SVC\n",
    "from sklearn.metrics import accuracy_score\n",
    "\n",
    "# Define a range of random states to try\n",
    "random_states = range(1, 101)\n",
    "\n",
    "best_accuracy = 0\n",
    "best_random_state = None\n",
    "\n",
    "for random_state in random_states:\n",
    "    X_train, X_test, y_train, y_test = train_test_split(X, y, test_size=0.2, random_state=random_state)\n",
    "    \n",
    "    # Initialize the SVM classifier\n",
    "    svm_classifier = SVC(kernel='linear')  # You can choose different kernels like 'rbf', 'poly', etc.\n",
    "    \n",
    "    # Train the SVM classifier\n",
    "    svm_classifier.fit(X_train, y_train)\n",
    "    \n",
    "    # Make predictions on the test set\n",
    "    y_pred = svm_classifier.predict(X_test)\n",
    "    \n",
    "    # Evaluate the performance\n",
    "    accuracy = accuracy_score(y_test, y_pred)\n",
    "    \n",
    "    if accuracy > best_accuracy:\n",
    "        best_accuracy = accuracy\n",
    "        best_random_state = random_state\n",
    "\n",
    "print(f'Best Random State: {best_random_state}')\n",
    "print(f'Best Accuracy: {best_accuracy}')\n"
   ]
  },
  {
   "cell_type": "markdown",
   "id": "7bca2be5",
   "metadata": {
    "papermill": {
     "duration": 0.007438,
     "end_time": "2023-11-09T16:57:02.454320",
     "exception": false,
     "start_time": "2023-11-09T16:57:02.446882",
     "status": "completed"
    },
    "tags": []
   },
   "source": [
    "# Support Vector Machine (SVM)"
   ]
  },
  {
   "cell_type": "code",
   "execution_count": 8,
   "id": "83a989a7",
   "metadata": {
    "execution": {
     "iopub.execute_input": "2023-11-09T16:57:02.471961Z",
     "iopub.status.busy": "2023-11-09T16:57:02.471096Z",
     "iopub.status.idle": "2023-11-09T16:57:05.037213Z",
     "shell.execute_reply": "2023-11-09T16:57:05.035903Z"
    },
    "papermill": {
     "duration": 2.578332,
     "end_time": "2023-11-09T16:57:05.040126",
     "exception": false,
     "start_time": "2023-11-09T16:57:02.461794",
     "status": "completed"
    },
    "tags": []
   },
   "outputs": [
    {
     "name": "stdout",
     "output_type": "stream",
     "text": [
      "Accuracy: 0.91\n"
     ]
    }
   ],
   "source": [
    "from sklearn.svm import SVC\n",
    "from sklearn.metrics import accuracy_score\n",
    "\n",
    "# Assuming you've already split your data into X_train, X_test, y_train, y_test\n",
    "\n",
    "# Initialize the SVM classifier\n",
    "svm_classifier = SVC(kernel='linear')  # You can choose different kernels like 'rbf', 'poly', etc.\n",
    "\n",
    "# Train the SVM classifier\n",
    "svm_classifier.fit(X_train, y_train)\n",
    "\n",
    "# Make predictions on the test set\n",
    "y_pred = svm_classifier.predict(X_test)\n",
    "\n",
    "# Evaluate the performance\n",
    "accuracy = accuracy_score(y_test, y_pred)\n",
    "\n",
    "print(f'Accuracy: {accuracy}')"
   ]
  },
  {
   "cell_type": "markdown",
   "id": "87435486",
   "metadata": {
    "papermill": {
     "duration": 0.007335,
     "end_time": "2023-11-09T16:57:05.055341",
     "exception": false,
     "start_time": "2023-11-09T16:57:05.048006",
     "status": "completed"
    },
    "tags": []
   },
   "source": [
    "# Decision Tree"
   ]
  },
  {
   "cell_type": "code",
   "execution_count": 9,
   "id": "3294cbc0",
   "metadata": {
    "execution": {
     "iopub.execute_input": "2023-11-09T16:57:05.072910Z",
     "iopub.status.busy": "2023-11-09T16:57:05.072455Z",
     "iopub.status.idle": "2023-11-09T16:57:07.176589Z",
     "shell.execute_reply": "2023-11-09T16:57:07.175072Z"
    },
    "papermill": {
     "duration": 2.116753,
     "end_time": "2023-11-09T16:57:07.179798",
     "exception": false,
     "start_time": "2023-11-09T16:57:05.063045",
     "status": "completed"
    },
    "tags": []
   },
   "outputs": [
    {
     "name": "stdout",
     "output_type": "stream",
     "text": [
      "Best Random State: 76\n",
      "Best Accuracy: 0.918\n"
     ]
    }
   ],
   "source": [
    "from sklearn.model_selection import train_test_split\n",
    "from sklearn.tree import DecisionTreeClassifier\n",
    "from sklearn.metrics import accuracy_score\n",
    "\n",
    "# Define a range of random states to try\n",
    "random_states = range(1, 101)\n",
    "\n",
    "best_accuracy = 0\n",
    "best_random_state = None\n",
    "\n",
    "for random_state in random_states:\n",
    "    X_train, X_test, y_train, y_test = train_test_split(X, y, test_size=0.2, random_state=random_state)\n",
    "    \n",
    "    # Initialize the Decision Tree classifier\n",
    "    dt_classifier = DecisionTreeClassifier(random_state=42)\n",
    "    \n",
    "    # Train the Decision Tree classifier\n",
    "    dt_classifier.fit(X_train, y_train)\n",
    "    \n",
    "    # Make predictions on the test set\n",
    "    y_pred = dt_classifier.predict(X_test)\n",
    "    \n",
    "    # Evaluate the performance\n",
    "    accuracy = accuracy_score(y_test, y_pred)\n",
    "    \n",
    "    if accuracy > best_accuracy:\n",
    "        best_accuracy = accuracy\n",
    "        best_random_state = random_state\n",
    "\n",
    "print(f'Best Random State: {best_random_state}')\n",
    "print(f'Best Accuracy: {best_accuracy}')"
   ]
  },
  {
   "cell_type": "markdown",
   "id": "7ec4b7de",
   "metadata": {
    "papermill": {
     "duration": 0.007479,
     "end_time": "2023-11-09T16:57:07.195363",
     "exception": false,
     "start_time": "2023-11-09T16:57:07.187884",
     "status": "completed"
    },
    "tags": []
   },
   "source": [
    "# Random Forest"
   ]
  },
  {
   "cell_type": "code",
   "execution_count": 10,
   "id": "0ce4fb78",
   "metadata": {
    "execution": {
     "iopub.execute_input": "2023-11-09T16:57:07.213899Z",
     "iopub.status.busy": "2023-11-09T16:57:07.212889Z",
     "iopub.status.idle": "2023-11-09T16:58:29.079029Z",
     "shell.execute_reply": "2023-11-09T16:58:29.077909Z"
    },
    "papermill": {
     "duration": 81.886035,
     "end_time": "2023-11-09T16:58:29.089334",
     "exception": false,
     "start_time": "2023-11-09T16:57:07.203299",
     "status": "completed"
    },
    "tags": []
   },
   "outputs": [
    {
     "name": "stdout",
     "output_type": "stream",
     "text": [
      "Best Random State: 48\n",
      "Best Accuracy: 0.914\n"
     ]
    }
   ],
   "source": [
    "from sklearn.model_selection import train_test_split\n",
    "from sklearn.ensemble import RandomForestClassifier\n",
    "from sklearn.metrics import accuracy_score\n",
    "\n",
    "# Define a range of random states to try\n",
    "random_states = range(1, 101)\n",
    "\n",
    "best_accuracy = 0\n",
    "best_random_state = None\n",
    "\n",
    "for random_state in random_states:\n",
    "    X_train, X_test, y_train, y_test = train_test_split(X, y, test_size=0.2, random_state=random_state)\n",
    "    \n",
    "    # Initialize the Random Forest classifier\n",
    "    rf_classifier = RandomForestClassifier(random_state=42)\n",
    "    \n",
    "    # Train the Random Forest classifier\n",
    "    rf_classifier.fit(X_train, y_train)\n",
    "    \n",
    "    # Make predictions on the test set\n",
    "    y_pred = rf_classifier.predict(X_test)\n",
    "    \n",
    "    # Evaluate the performance\n",
    "    accuracy = accuracy_score(y_test, y_pred)\n",
    "    \n",
    "    if accuracy > best_accuracy:\n",
    "        best_accuracy = accuracy\n",
    "        best_random_state = random_state\n",
    "\n",
    "print(f'Best Random State: {best_random_state}')\n",
    "print(f'Best Accuracy: {best_accuracy}')"
   ]
  },
  {
   "cell_type": "markdown",
   "id": "8a12f8c9",
   "metadata": {
    "papermill": {
     "duration": 0.007852,
     "end_time": "2023-11-09T16:58:29.105268",
     "exception": false,
     "start_time": "2023-11-09T16:58:29.097416",
     "status": "completed"
    },
    "tags": []
   },
   "source": [
    "# Logistic Regression"
   ]
  },
  {
   "cell_type": "code",
   "execution_count": 11,
   "id": "cc2a784c",
   "metadata": {
    "execution": {
     "iopub.execute_input": "2023-11-09T16:58:29.125051Z",
     "iopub.status.busy": "2023-11-09T16:58:29.123781Z",
     "iopub.status.idle": "2023-11-09T16:58:35.751107Z",
     "shell.execute_reply": "2023-11-09T16:58:35.749420Z"
    },
    "papermill": {
     "duration": 6.642566,
     "end_time": "2023-11-09T16:58:35.756620",
     "exception": false,
     "start_time": "2023-11-09T16:58:29.114054",
     "status": "completed"
    },
    "tags": []
   },
   "outputs": [
    {
     "name": "stdout",
     "output_type": "stream",
     "text": [
      "Best Random State: 76\n",
      "Best Accuracy: 0.92\n"
     ]
    }
   ],
   "source": [
    "from sklearn.model_selection import train_test_split\n",
    "from sklearn.linear_model import LogisticRegression\n",
    "from sklearn.metrics import accuracy_score\n",
    "\n",
    "# Define a range of random states to try\n",
    "random_states = range(1, 101)\n",
    "\n",
    "best_accuracy = 0\n",
    "best_random_state = None\n",
    "\n",
    "for random_state in random_states:\n",
    "    X_train, X_test, y_train, y_test = train_test_split(X, y, test_size=0.2, random_state=random_state)\n",
    "    \n",
    "    # Initialize the Logistic Regression classifier\n",
    "    logistic_regression = LogisticRegression(max_iter=1000, random_state=42)  # max_iter increased for convergence\n",
    "    \n",
    "    # Train the Logistic Regression classifier\n",
    "    logistic_regression.fit(X_train, y_train)\n",
    "    \n",
    "    # Make predictions on the test set\n",
    "    y_pred = logistic_regression.predict(X_test)\n",
    "    \n",
    "    # Evaluate the performance\n",
    "    accuracy = accuracy_score(y_test, y_pred)\n",
    "    \n",
    "    if accuracy > best_accuracy:\n",
    "        best_accuracy = accuracy\n",
    "        best_random_state = random_state\n",
    "\n",
    "print(f'Best Random State: {best_random_state}')\n",
    "print(f'Best Accuracy: {best_accuracy}')"
   ]
  },
  {
   "cell_type": "markdown",
   "id": "d8bcdea6",
   "metadata": {
    "papermill": {
     "duration": 0.017153,
     "end_time": "2023-11-09T16:58:35.791318",
     "exception": false,
     "start_time": "2023-11-09T16:58:35.774165",
     "status": "completed"
    },
    "tags": []
   },
   "source": [
    "# Extreme Gradient Boosting (XGBoost)"
   ]
  },
  {
   "cell_type": "code",
   "execution_count": 12,
   "id": "ba1c421b",
   "metadata": {
    "execution": {
     "iopub.execute_input": "2023-11-09T16:58:35.829893Z",
     "iopub.status.busy": "2023-11-09T16:58:35.828982Z",
     "iopub.status.idle": "2023-11-09T16:59:09.533860Z",
     "shell.execute_reply": "2023-11-09T16:59:09.532136Z"
    },
    "papermill": {
     "duration": 33.728268,
     "end_time": "2023-11-09T16:59:09.536877",
     "exception": false,
     "start_time": "2023-11-09T16:58:35.808609",
     "status": "completed"
    },
    "tags": []
   },
   "outputs": [
    {
     "name": "stdout",
     "output_type": "stream",
     "text": [
      "Best Random State: 76\n",
      "Best Accuracy: 0.9195\n"
     ]
    }
   ],
   "source": [
    "from sklearn.model_selection import train_test_split\n",
    "from xgboost import XGBClassifier\n",
    "from sklearn.metrics import accuracy_score\n",
    "\n",
    "# Define a range of random states to try\n",
    "random_states = range(1, 101)\n",
    "\n",
    "best_accuracy = 0\n",
    "best_random_state = None\n",
    "\n",
    "for random_state in random_states:\n",
    "    X_train, X_test, y_train, y_test = train_test_split(X, y, test_size=0.2, random_state=random_state)\n",
    "    \n",
    "    # Initialize the XGBoost classifier\n",
    "    xgb_classifier = XGBClassifier(random_state=42)\n",
    "    \n",
    "    # Train the XGBoost classifier\n",
    "    xgb_classifier.fit(X_train, y_train)\n",
    "    \n",
    "    # Make predictions on the test set\n",
    "    y_pred = xgb_classifier.predict(X_test)\n",
    "    \n",
    "    # Evaluate the performance\n",
    "    accuracy = accuracy_score(y_test, y_pred)\n",
    "    \n",
    "    if accuracy > best_accuracy:\n",
    "        best_accuracy = accuracy\n",
    "        best_random_state = random_state\n",
    "\n",
    "print(f'Best Random State: {best_random_state}')\n",
    "print(f'Best Accuracy: {best_accuracy}')"
   ]
  },
  {
   "cell_type": "code",
   "execution_count": null,
   "id": "b771c81a",
   "metadata": {
    "papermill": {
     "duration": 0.008175,
     "end_time": "2023-11-09T16:59:09.553787",
     "exception": false,
     "start_time": "2023-11-09T16:59:09.545612",
     "status": "completed"
    },
    "tags": []
   },
   "outputs": [],
   "source": []
  }
 ],
 "metadata": {
  "kernelspec": {
   "display_name": "Python 3",
   "language": "python",
   "name": "python3"
  },
  "language_info": {
   "codemirror_mode": {
    "name": "ipython",
    "version": 3
   },
   "file_extension": ".py",
   "mimetype": "text/x-python",
   "name": "python",
   "nbconvert_exporter": "python",
   "pygments_lexer": "ipython3",
   "version": "3.10.12"
  },
  "papermill": {
   "default_parameters": {},
   "duration": 385.062657,
   "end_time": "2023-11-09T16:59:10.386908",
   "environment_variables": {},
   "exception": null,
   "input_path": "__notebook__.ipynb",
   "output_path": "__notebook__.ipynb",
   "parameters": {},
   "start_time": "2023-11-09T16:52:45.324251",
   "version": "2.4.0"
  }
 },
 "nbformat": 4,
 "nbformat_minor": 5
}
